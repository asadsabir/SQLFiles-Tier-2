{
 "cells": [
  {
   "cell_type": "code",
   "execution_count": 1,
   "metadata": {},
   "outputs": [
    {
     "name": "stdout",
     "output_type": "stream",
     "text": [
      "[('Bookings',), ('Facilities',), ('Members',)]\n"
     ]
    }
   ],
   "source": [
    "import sqlite3\n",
    "import pandas as pd\n",
    "db = './sqlite_db_pythonsqlite.db'\n",
    "\n",
    "conn = sqlite3.connect(db)\n",
    "c = conn.cursor()\n",
    "c.execute(\"SELECT name FROM sqlite_master WHERE type='table';\")\n",
    "tables = []\n",
    "print(c.fetchall())\n",
    "\n"
   ]
  },
  {
   "cell_type": "code",
   "execution_count": 34,
   "metadata": {},
   "outputs": [
    {
     "name": "stdout",
     "output_type": "stream",
     "text": [
      "[('Tennis Court 1',)]\n"
     ]
    }
   ],
   "source": [
    "#Q10\n",
    "\n",
    "\n",
    "c.execute(\"\"\"SELECT a.facility\n",
    "          FROM (SELECT Facilities.name as facility, SUM(Bookings.slots * CASE WHEN Bookings.memid = 0 THEN Facilities.guestcost ELSE Facilities.membercost END) as revenue\n",
    "            FROM Bookings\n",
    "            FULL OUTER JOIN Facilities\n",
    "            ON Facilities.facid\n",
    "            GROUP BY Facilities.name) as a\n",
    "          WHERE revenue < 1000 OR revenue IS NULL\n",
    "          \"\"\")\n",
    "\n",
    "print(c.fetchall())"
   ]
  },
  {
   "cell_type": "code",
   "execution_count": 39,
   "metadata": {},
   "outputs": [
    {
     "name": "stdout",
     "output_type": "stream",
     "text": [
      "[('Janice Joplette', 'Darren Smith'), ('Gerald Butters', 'Darren Smith'), ('Nancy Dare', 'Janice Joplette'), ('Tim Boothe', 'Tim Rownam'), ('Ponder Stibbons', 'Burton Tracy'), ('Charles Owen', 'Darren Smith'), ('David Jones', 'Janice Joplette'), ('Anne Baker', 'Ponder Stibbons'), ('Jack Smith', 'Darren Smith'), ('Florence Bader', 'Ponder Stibbons'), ('Timothy Baker', 'Jemima Farrell'), ('David Pinker', 'Jemima Farrell'), ('Matthew Genting', 'Gerald Butters'), ('Anna Mackenzie', 'Darren Smith'), ('Joan Coplin', 'Timothy Baker'), ('Ramnaresh Sarwin', 'Florence Bader'), ('Douglas Jones', 'David Jones'), ('Henrietta Rumney', 'Matthew Genting'), ('Henry Worthington-Smyth', 'Tracy Smith'), ('Millicent Purview', 'Tracy Smith'), ('John Hunt', 'Millicent Purview'), ('Erica Crumpet', 'Tracy Smith')]\n"
     ]
    }
   ],
   "source": [
    "#Q11\n",
    "\n",
    "c.execute(\"\"\"SELECT M.firstname||' '||M.surname as member, R.firstname||' '||R.surname as recommender\n",
    "          FROM Members as M, Members as R\n",
    "          WHERE M.recommendedby = R.memid\n",
    "          \"\"\")\n",
    "\n",
    "print(c.fetchall())"
   ]
  },
  {
   "cell_type": "code",
   "execution_count": 41,
   "metadata": {},
   "outputs": [
    {
     "name": "stdout",
     "output_type": "stream",
     "text": [
      "[('Badminton Court', 6791), ('Massage Room 1', 6791), ('Massage Room 2', 6791), ('Pool Table', 6791), ('Snooker Table', 6791), ('Squash Court', 6791), ('Table Tennis', 6791), ('Tennis Court 1', None), ('Tennis Court 2', 6791)]\n"
     ]
    }
   ],
   "source": [
    "#Q12\n",
    "\n",
    "c.execute(\"\"\"SELECT Facilities.name as facility, SUM(CASE WHEN Bookings.memid = 0 THEN 0 ELSE Bookings.slots END) as usage\n",
    "            FROM Bookings\n",
    "            FULL OUTER JOIN Facilities\n",
    "            ON Facilities.facid\n",
    "            GROUP BY Facilities.name\"\"\")\n",
    "\n",
    "print(c.fetchall())"
   ]
  },
  {
   "cell_type": "code",
   "execution_count": 45,
   "metadata": {},
   "outputs": [
    {
     "name": "stdout",
     "output_type": "stream",
     "text": [
      "[('Badminton Court', 1061, '07', None), ('Badminton Court', 2531, '08', None), ('Badminton Court', 3199, '09', None), ('Massage Room 1', 1061, '07', None), ('Massage Room 1', 2531, '08', None), ('Massage Room 1', 3199, '09', None), ('Massage Room 2', 1061, '07', None), ('Massage Room 2', 2531, '08', None), ('Massage Room 2', 3199, '09', None), ('Pool Table', 1061, '07', None), ('Pool Table', 2531, '08', None), ('Pool Table', 3199, '09', None), ('Snooker Table', 1061, '07', None), ('Snooker Table', 2531, '08', None), ('Snooker Table', 3199, '09', None), ('Squash Court', 1061, '07', None), ('Squash Court', 2531, '08', None), ('Squash Court', 3199, '09', None), ('Table Tennis', 1061, '07', None), ('Table Tennis', 2531, '08', None), ('Table Tennis', 3199, '09', None), ('Tennis Court 1', None, None, None), ('Tennis Court 2', 1061, '07', None), ('Tennis Court 2', 2531, '08', None), ('Tennis Court 2', 3199, '09', None)]\n"
     ]
    }
   ],
   "source": [
    "#Q13\n",
    "\n",
    "c.execute(\"\"\"SELECT Facilities.name as facility, \n",
    "            SUM(CASE WHEN Bookings.memid = 0 THEN 0 ELSE Bookings.slots END) as usage,\n",
    "            strftime('%m', Bookings.starttime) as month,\n",
    "            strftime('%y', Bookings.starttime) as year\n",
    "            FROM Bookings\n",
    "            FULL OUTER JOIN Facilities\n",
    "            ON Facilities.facid\n",
    "            GROUP BY Facilities.name, month,year\"\"\")\n",
    "\n",
    "print(c.fetchall())\n"
   ]
  },
  {
   "cell_type": "code",
   "execution_count": 46,
   "metadata": {},
   "outputs": [],
   "source": [
    "conn.close()"
   ]
  }
 ],
 "metadata": {
  "kernelspec": {
   "display_name": "base",
   "language": "python",
   "name": "python3"
  },
  "language_info": {
   "codemirror_mode": {
    "name": "ipython",
    "version": 3
   },
   "file_extension": ".py",
   "mimetype": "text/x-python",
   "name": "python",
   "nbconvert_exporter": "python",
   "pygments_lexer": "ipython3",
   "version": "3.11.3"
  },
  "orig_nbformat": 4
 },
 "nbformat": 4,
 "nbformat_minor": 2
}
